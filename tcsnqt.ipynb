{
  "nbformat": 4,
  "nbformat_minor": 0,
  "metadata": {
    "colab": {
      "name": "Untitled1.ipynb",
      "provenance": [],
      "collapsed_sections": [],
      "authorship_tag": "ABX9TyNq8dDAQejX55sXdqrDCyAZ",
      "include_colab_link": true
    },
    "kernelspec": {
      "name": "python3",
      "display_name": "Python 3"
    }
  },
  "cells": [
    {
      "cell_type": "markdown",
      "metadata": {
        "id": "view-in-github",
        "colab_type": "text"
      },
      "source": [
        "<a href=\"https://colab.research.google.com/github/graviteja28/my-codes/blob/master/tcsnqt.ipynb\" target=\"_parent\"><img src=\"https://colab.research.google.com/assets/colab-badge.svg\" alt=\"Open In Colab\"/></a>"
      ]
    },
    {
      "cell_type": "code",
      "metadata": {
        "id": "PAyc6bk7ig3l",
        "outputId": "33181ccc-c8a8-449a-c704-263fbea43a0c",
        "colab": {
          "base_uri": "https://localhost:8080/",
          "height": 51
        }
      },
      "source": [
        "#factorial using recusion\n",
        "def fact(n):\n",
        "    if(n<=1):\n",
        "        return 1\n",
        "    else:\n",
        "        return n*fact(n-1)\n",
        "n=int(input())\n",
        "print(fact(n))"
      ],
      "execution_count": 89,
      "outputs": [
        {
          "output_type": "stream",
          "text": [
            "5\n",
            "120\n"
          ],
          "name": "stdout"
        }
      ]
    },
    {
      "cell_type": "code",
      "metadata": {
        "id": "yY9b2f9hijpv",
        "outputId": "ea6d1d5c-21c5-469d-f2ed-68fefe17e336",
        "colab": {
          "base_uri": "https://localhost:8080/",
          "height": 51
        }
      },
      "source": [
        "#factorial without recursion\n",
        "n=int(input())\n",
        "sum=1\n",
        "for i in range(2,n+1):\n",
        "    sum=sum*i\n",
        "print(sum)"
      ],
      "execution_count": 90,
      "outputs": [
        {
          "output_type": "stream",
          "text": [
            "5\n",
            "120\n"
          ],
          "name": "stdout"
        }
      ]
    },
    {
      "cell_type": "code",
      "metadata": {
        "id": "UgaR-92Qilce",
        "outputId": "a20715de-3368-4ab6-b40f-e008c3a81644",
        "colab": {
          "base_uri": "https://localhost:8080/",
          "height": 51
        }
      },
      "source": [
        "#area of circle\n",
        "r=float(input())\n",
        "pi=22/7\n",
        "print(pi*r*r)"
      ],
      "execution_count": 91,
      "outputs": [
        {
          "output_type": "stream",
          "text": [
            "2.5\n",
            "19.642857142857142\n"
          ],
          "name": "stdout"
        }
      ]
    },
    {
      "cell_type": "code",
      "metadata": {
        "id": "wy7dQutuim0P",
        "outputId": "c82c77dd-c617-4c80-94ff-42fad0019a95",
        "colab": {
          "base_uri": "https://localhost:8080/",
          "height": 51
        }
      },
      "source": [
        "#leap year or not\n",
        "year=int(input())\n",
        "if(year%4==0):\n",
        "    if(year%100==0):\n",
        "        if(year%400==0):\n",
        "            print(year,\"is a leap year\")\n",
        "        else:\n",
        "            print(year,\"is not a leap year\")\n",
        "    else:\n",
        "        print(year,\"is a leap year\")\n",
        "else:\n",
        "    print(year,\"is not a leap year\")"
      ],
      "execution_count": 92,
      "outputs": [
        {
          "output_type": "stream",
          "text": [
            "2016\n",
            "2016 is a leap year\n"
          ],
          "name": "stdout"
        }
      ]
    },
    {
      "cell_type": "code",
      "metadata": {
        "id": "FkAm0pzgin5p",
        "outputId": "d0ac2672-203c-43d9-bdee-605c0a7a54e2",
        "colab": {
          "base_uri": "https://localhost:8080/",
          "height": 68
        }
      },
      "source": [
        "#gcd of two numbers\n",
        "a=int(input())\n",
        "b=int(input())\n",
        "if(a<b):\n",
        "    x=a\n",
        "else:\n",
        "    x=b\n",
        "for i in range(1,x+1):\n",
        "    if(a%i==0 and b%i==0):\n",
        "        g=i\n",
        "print(\"gcd of a and b is\",g)"
      ],
      "execution_count": 94,
      "outputs": [
        {
          "output_type": "stream",
          "text": [
            "4\n",
            "12\n",
            "gcd of a and b is 4\n"
          ],
          "name": "stdout"
        }
      ]
    },
    {
      "cell_type": "code",
      "metadata": {
        "id": "0NSKlL--is3l",
        "outputId": "b08f47cf-4905-416f-b91a-c2265fba23b1",
        "colab": {
          "base_uri": "https://localhost:8080/",
          "height": 51
        }
      },
      "source": [
        "#a given number is a prime number or not\n",
        "import math\n",
        "n=int(input())\n",
        "for i in range(2,int(math.sqrt(n))+1):\n",
        "    if(n%i==0):\n",
        "        print(n,\"is not a prime number\")\n",
        "        break\n",
        "else:\n",
        "    print(n,\"is a prime number\")"
      ],
      "execution_count": 95,
      "outputs": [
        {
          "output_type": "stream",
          "text": [
            "20\n",
            "20 is not a prime number\n"
          ],
          "name": "stdout"
        }
      ]
    },
    {
      "cell_type": "code",
      "metadata": {
        "id": "xunq8XgqivtM",
        "outputId": "2844b8f8-6127-4386-f683-bb142e4675fb",
        "colab": {
          "base_uri": "https://localhost:8080/",
          "height": 51
        }
      },
      "source": [
        "#prime numbers in a given range\n",
        "import math\n",
        "n=int(input())\n",
        "for i in range(2,n+1):\n",
        "    for j in range(2,int(math.sqrt(i))+1):\n",
        "        if(i%j==0):\n",
        "            break\n",
        "    else:\n",
        "        print(i,end=\" \")"
      ],
      "execution_count": 96,
      "outputs": [
        {
          "output_type": "stream",
          "text": [
            "20\n",
            "2 3 5 7 11 13 17 19 "
          ],
          "name": "stdout"
        }
      ]
    },
    {
      "cell_type": "code",
      "metadata": {
        "id": "ZS_yEbcXixYb",
        "outputId": "7ba52ee2-3d27-4e60-cd9f-dec3fefead57",
        "colab": {
          "base_uri": "https://localhost:8080/",
          "height": 51
        }
      },
      "source": [
        "#Program to check if a given number is a strong number or not \n",
        "def fact(n):\n",
        "    if(n<=1):\n",
        "        return 1\n",
        "    else:\n",
        "        return n*fact(n-1)\n",
        "n=int(input())\n",
        "temp=n\n",
        "sum = 0\n",
        "while (n!=0):\n",
        "    sum=sum+fact(n%10)\n",
        "    n=n//10\n",
        "if(sum==temp):\n",
        "    print(temp,\"is a strong number\")\n",
        "else:\n",
        "    print(temp,\"is not a strong number\")"
      ],
      "execution_count": 97,
      "outputs": [
        {
          "output_type": "stream",
          "text": [
            "145\n",
            "145 is a strong number\n"
          ],
          "name": "stdout"
        }
      ]
    },
    {
      "cell_type": "code",
      "metadata": {
        "id": "wgfcnZGAizbs",
        "outputId": "e1e62d05-a4a6-47bb-83a8-80266c28e991",
        "colab": {
          "base_uri": "https://localhost:8080/",
          "height": 51
        }
      },
      "source": [
        "#number palindrome\n",
        "n=int(input())\n",
        "temp=n\n",
        "sum=0\n",
        "while(n!=0):\n",
        "  rem=n%10\n",
        "  sum=sum*10 + rem\n",
        "  n=n//10\n",
        "if(sum==temp):\n",
        "  print(temp,\"is a palindrome\")\n",
        "else:\n",
        "  print(temp,\"is not a palindrome\")"
      ],
      "execution_count": 98,
      "outputs": [
        {
          "output_type": "stream",
          "text": [
            "1221\n",
            "1221 is a palindrome\n"
          ],
          "name": "stdout"
        }
      ]
    },
    {
      "cell_type": "code",
      "metadata": {
        "id": "OR-aDG-MmG07",
        "outputId": "e39cbb70-183d-4f36-8acf-137cbb1a9950",
        "colab": {
          "base_uri": "https://localhost:8080/",
          "height": 51
        }
      },
      "source": [
        "#string palindrome\n",
        "s=input()\n",
        "if(s==s[::-1]):\n",
        "  print(s,\"is a palindrome\")\n",
        "else:\n",
        "  print(s,\"is not a palindrome\")"
      ],
      "execution_count": 99,
      "outputs": [
        {
          "output_type": "stream",
          "text": [
            "rama\n",
            "rama is not a palindrome\n"
          ],
          "name": "stdout"
        }
      ]
    },
    {
      "cell_type": "code",
      "metadata": {
        "id": "6anC2mA-mxd8",
        "outputId": "ceb5d23d-08a6-4e03-9286-854453beedbd",
        "colab": {
          "base_uri": "https://localhost:8080/",
          "height": 51
        }
      },
      "source": [
        "n=int(input())\n",
        "temp1=n\n",
        "temp2=n\n",
        "sum=0\n",
        "count=0\n",
        "while(temp1!=0):\n",
        "  count+=1\n",
        "  temp1=temp1//10\n",
        "while(temp2!=0):\n",
        "  rem=temp2%10\n",
        "  sum=sum + rem**count\n",
        "  temp2=temp2//10\n",
        "if(sum==n):\n",
        "  print(n,\"is a amstrong number\")\n",
        "else:\n",
        "  print(n,\"is not a amstrong number\")"
      ],
      "execution_count": 100,
      "outputs": [
        {
          "output_type": "stream",
          "text": [
            "125\n",
            "125 is not a amstrong number\n"
          ],
          "name": "stdout"
        }
      ]
    },
    {
      "cell_type": "code",
      "metadata": {
        "id": "VTAoHtvsoQyC",
        "outputId": "69059ac9-2af2-4f82-c97b-4912c3e208a3",
        "colab": {
          "base_uri": "https://localhost:8080/",
          "height": 68
        }
      },
      "source": [
        "#Print all Armstrong numbers between two intervals\n",
        "def check(n):\n",
        "  temp1=n\n",
        "  temp2=n\n",
        "  sum=0\n",
        "  count=0\n",
        "  while(temp1!=0):\n",
        "    count+=1\n",
        "    temp1=temp1//10\n",
        "  while(temp2!=0):\n",
        "    rem=temp2%10\n",
        "    sum=sum + rem**count\n",
        "    temp2=temp2//10\n",
        "  if(sum==n):\n",
        "    return True\n",
        "  else:\n",
        "    return False\n",
        "start=int(input())\n",
        "end=int(input())\n",
        "for i in range(start,end+1):\n",
        "  if(check(i)):\n",
        "    print(i,end=\" \")  "
      ],
      "execution_count": 105,
      "outputs": [
        {
          "output_type": "stream",
          "text": [
            "1\n",
            "1000\n",
            "1 2 3 4 5 6 7 8 9 153 370 371 407 "
          ],
          "name": "stdout"
        }
      ]
    },
    {
      "cell_type": "code",
      "metadata": {
        "id": "Yrp9f-S5qupr",
        "outputId": "52ccec00-2312-4f09-f696-6d0df1f8e427",
        "colab": {
          "base_uri": "https://localhost:8080/",
          "height": 51
        }
      },
      "source": [
        "#Fibonacci series generation upto N terms\n",
        "n = int(input())\n",
        "a = 0\n",
        "b = 1\n",
        "sum = 0\n",
        "while(sum <= n):\n",
        "     print(sum, end = \" \")\n",
        "     a = b\n",
        "     b = sum\n",
        "     sum = a + b"
      ],
      "execution_count": 106,
      "outputs": [
        {
          "output_type": "stream",
          "text": [
            "50\n",
            "0 1 1 2 3 5 8 13 21 34 "
          ],
          "name": "stdout"
        }
      ]
    },
    {
      "cell_type": "code",
      "metadata": {
        "id": "b7pm3EuqrTFw",
        "outputId": "95a7a84b-b8ed-4245-fc11-29a973f12793",
        "colab": {
          "base_uri": "https://localhost:8080/",
          "height": 51
        }
      },
      "source": [
        "#decimal to binary\n",
        "n = int(input())\n",
        "l=[]\n",
        "while (n!=0):\n",
        "  l.append(n%2)\n",
        "  n = n//2\n",
        "for i in l[::-1]:\n",
        "  print(i,end=\"\")"
      ],
      "execution_count": 107,
      "outputs": [
        {
          "output_type": "stream",
          "text": [
            "10\n",
            "1010"
          ],
          "name": "stdout"
        }
      ]
    },
    {
      "cell_type": "code",
      "metadata": {
        "id": "6f1_CLFUtnI3",
        "outputId": "d069c0be-5baa-45b7-a440-dda9be61a626",
        "colab": {
          "base_uri": "https://localhost:8080/",
          "height": 51
        }
      },
      "source": [
        "#binary to decimal\n",
        "n = int(input())\n",
        "sum=0\n",
        "i=1\n",
        "while (n!=0):\n",
        "  rem=n%10\n",
        "  sum=sum+ rem*i\n",
        "  n = n//10\n",
        "  i=i*2\n",
        "print(sum)"
      ],
      "execution_count": 108,
      "outputs": [
        {
          "output_type": "stream",
          "text": [
            "1010\n",
            "10\n"
          ],
          "name": "stdout"
        }
      ]
    },
    {
      "cell_type": "code",
      "metadata": {
        "id": "GcpU_U6Rujt3",
        "outputId": "0e1cce5d-4731-4bfe-dc6a-c8babebf550c",
        "colab": {
          "base_uri": "https://localhost:8080/",
          "height": 51
        }
      },
      "source": [
        "#decimal to octal\n",
        "n = int(input())\n",
        "l=[]\n",
        "while (n!=0):\n",
        "  l.append(n%8)\n",
        "  n = n//8\n",
        "for i in l[::-1]:\n",
        "  print(i,end=\"\")"
      ],
      "execution_count": 109,
      "outputs": [
        {
          "output_type": "stream",
          "text": [
            "16\n",
            "20"
          ],
          "name": "stdout"
        }
      ]
    },
    {
      "cell_type": "code",
      "metadata": {
        "id": "y8E06yfduujW",
        "outputId": "c0e8cd4f-a3ca-4ff7-bf94-b1086d82e897",
        "colab": {
          "base_uri": "https://localhost:8080/",
          "height": 51
        }
      },
      "source": [
        "#octal to decimal\n",
        "n = int(input())\n",
        "sum=0\n",
        "i=1\n",
        "while (n!=0):\n",
        "  rem=n%10\n",
        "  sum=sum+ rem*i\n",
        "  n = n//10\n",
        "  i=i*8\n",
        "print(sum)"
      ],
      "execution_count": 110,
      "outputs": [
        {
          "output_type": "stream",
          "text": [
            "30\n",
            "24\n"
          ],
          "name": "stdout"
        }
      ]
    },
    {
      "cell_type": "code",
      "metadata": {
        "id": "E62YljfXu_K9",
        "outputId": "a2f97020-e44c-4bc3-e81b-dc7af78a5db4",
        "colab": {
          "base_uri": "https://localhost:8080/",
          "height": 68
        }
      },
      "source": [
        "#Sum of all prime numbers within a range\n",
        "import math\n",
        "start=int(input())\n",
        "end=int(input())\n",
        "sum=0\n",
        "if(start<=1):\n",
        "  start=2\n",
        "for i in range(start,end+1):\n",
        "    for j in range(2,int(math.sqrt(i))+1):\n",
        "        if(i%j==0):\n",
        "            break\n",
        "    else:\n",
        "        sum=sum+i\n",
        "print(sum)"
      ],
      "execution_count": 111,
      "outputs": [
        {
          "output_type": "stream",
          "text": [
            "10\n",
            "20\n",
            "60\n"
          ],
          "name": "stdout"
        }
      ]
    },
    {
      "cell_type": "code",
      "metadata": {
        "id": "YHAaxCDKw1Cf",
        "outputId": "43472938-ce01-4cf7-c2a3-6d0f203f2fc4",
        "colab": {
          "base_uri": "https://localhost:8080/",
          "height": 51
        }
      },
      "source": [
        "#reverse of a number\n",
        "n=int(input())\n",
        "temp=n\n",
        "sum=0\n",
        "while(n!=0):\n",
        "  rem=n%10\n",
        "  sum=sum*10 + rem\n",
        "  n=n//10\n",
        "print(sum)"
      ],
      "execution_count": 112,
      "outputs": [
        {
          "output_type": "stream",
          "text": [
            "156\n",
            "651\n"
          ],
          "name": "stdout"
        }
      ]
    },
    {
      "cell_type": "code",
      "metadata": {
        "id": "JhxB7mctyGZs",
        "outputId": "0a488907-0fbb-4333-c9b1-90efc3569ea6",
        "colab": {
          "base_uri": "https://localhost:8080/",
          "height": 51
        }
      },
      "source": [
        "#Reverse a string\n",
        "s=input()\n",
        "print(s[::-1])"
      ],
      "execution_count": 113,
      "outputs": [
        {
          "output_type": "stream",
          "text": [
            "ram\n",
            "mar\n"
          ],
          "name": "stdout"
        }
      ]
    },
    {
      "cell_type": "code",
      "metadata": {
        "id": "RpwCV3sQyP3g",
        "outputId": "33408e08-69fb-4117-a593-f1aaf2018633",
        "colab": {
          "base_uri": "https://localhost:8080/",
          "height": 119
        }
      },
      "source": [
        "# Python program to print half pyramid pattern using stars\n",
        "n = int(input())\n",
        "for i in range(1,n+1) :\n",
        "  for j in range(1,i+1) :\n",
        "    print(\"*\", end=\" \")\n",
        "  print()"
      ],
      "execution_count": 114,
      "outputs": [
        {
          "output_type": "stream",
          "text": [
            "5\n",
            "* \n",
            "* * \n",
            "* * * \n",
            "* * * * \n",
            "* * * * * \n"
          ],
          "name": "stdout"
        }
      ]
    },
    {
      "cell_type": "code",
      "metadata": {
        "id": "7QPmSHZ3yeug",
        "outputId": "18db0b93-21a5-4273-c3b9-236b032e20d9",
        "colab": {
          "base_uri": "https://localhost:8080/",
          "height": 119
        }
      },
      "source": [
        "# Python program to print half pyramid pattern using numbers\n",
        "n = int(input())\n",
        "for i in range(1,n+1) :\n",
        "  for j in range(1,i+1) :\n",
        "    print(j, end=\" \")\n",
        "  print()"
      ],
      "execution_count": 115,
      "outputs": [
        {
          "output_type": "stream",
          "text": [
            "5\n",
            "1 \n",
            "1 2 \n",
            "1 2 3 \n",
            "1 2 3 4 \n",
            "1 2 3 4 5 \n"
          ],
          "name": "stdout"
        }
      ]
    },
    {
      "cell_type": "code",
      "metadata": {
        "id": "jci60t62yqiU",
        "outputId": "67e9eaae-c760-4b31-ef65-922465730964",
        "colab": {
          "base_uri": "https://localhost:8080/",
          "height": 221
        }
      },
      "source": [
        "# Python program to print diamond pyramid pattern using stars\n",
        "n = int(input())\n",
        "for i in range(1,n+1) :\n",
        "  for j in range(n-i,-1,-1) :\n",
        "    print(\" \", end=\"\")\n",
        "  for j in range(1,i+1) :\n",
        "    print(\"*\", end=\" \")\n",
        "  print()\n",
        "for i in range(n+1) :\n",
        "  for j in range(1,i+1) :\n",
        "    print(\" \", end=\"\")\n",
        "  for j in range(n-i,-1,-1) :\n",
        "    print(\"*\", end=\" \")\n",
        "  print()"
      ],
      "execution_count": 116,
      "outputs": [
        {
          "output_type": "stream",
          "text": [
            "5\n",
            "     * \n",
            "    * * \n",
            "   * * * \n",
            "  * * * * \n",
            " * * * * * \n",
            "* * * * * * \n",
            " * * * * * \n",
            "  * * * * \n",
            "   * * * \n",
            "    * * \n",
            "     * \n"
          ],
          "name": "stdout"
        }
      ]
    },
    {
      "cell_type": "code",
      "metadata": {
        "id": "fGaAeY9q2Pcp",
        "outputId": "f141828c-ac95-4ab9-a378-5d03225cbf4e",
        "colab": {
          "base_uri": "https://localhost:8080/",
          "height": 68
        }
      },
      "source": [
        "#Program to find the second smallest element in an array\n",
        "n=int(input())\n",
        "l=list(map(int,input().split()))\n",
        "r=list(set(l))\n",
        "r.sort()\n",
        "print(r[1])"
      ],
      "execution_count": 119,
      "outputs": [
        {
          "output_type": "stream",
          "text": [
            "5\n",
            "3 5 3 8 10\n",
            "5\n"
          ],
          "name": "stdout"
        }
      ]
    },
    {
      "cell_type": "code",
      "metadata": {
        "id": "9bWE4krG0MS3",
        "outputId": "3444e2bc-6f86-4856-f4ce-fd72b51046f5",
        "colab": {
          "base_uri": "https://localhost:8080/",
          "height": 68
        }
      },
      "source": [
        "#Python program to remove duplicate elements in an array\n",
        "n=int(input())\n",
        "l=list(map(int,input().split()))\n",
        "r=list(set(l))\n",
        "for i in r:\n",
        "  print(i,end=\" \")"
      ],
      "execution_count": 120,
      "outputs": [
        {
          "output_type": "stream",
          "text": [
            "10\n",
            "2 6 4 5 1 2 5 1 6 10\n",
            "1 2 4 5 6 10 "
          ],
          "name": "stdout"
        }
      ]
    },
    {
      "cell_type": "code",
      "metadata": {
        "id": "Ft9efuxz2hfy",
        "outputId": "6fc6e45e-4654-45b9-e7d2-ad182c9aede0",
        "colab": {
          "base_uri": "https://localhost:8080/",
          "height": 85
        }
      },
      "source": [
        "# Swap Two Variables Python One-Liner\n",
        "a=int(input())\n",
        "b=int(input())\n",
        "print(\"before swapping a and b: \",a,b)\n",
        "a=a+b\n",
        "b=a-b\n",
        "a=a-b\n",
        "print(\"after swapping a and b: \",a,b)"
      ],
      "execution_count": 121,
      "outputs": [
        {
          "output_type": "stream",
          "text": [
            "15\n",
            "30\n",
            "before swapping a and b:  15 30\n",
            "after swapping a and b:  30 15\n"
          ],
          "name": "stdout"
        }
      ]
    }
  ]
}